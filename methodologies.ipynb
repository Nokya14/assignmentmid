{
 "cells": [
  {
   "cell_type": "code",
   "execution_count": 15,
   "id": "0e4c106a",
   "metadata": {},
   "outputs": [],
   "source": [
    "import numpy as np\n",
    "import pandas as pd\n",
    "import matplotlib.pyplot as plt\n",
    "import scipy.stats as si\n",
    "import yfinance as yf"
   ]
  },
  {
   "cell_type": "code",
   "execution_count": 80,
   "id": "d581cee9",
   "metadata": {},
   "outputs": [],
   "source": [
    "def blk_scholes(S, K, T, r, voli, payoption):\n",
    "   \n",
    "    d1 = (np.log(S / K) + (r + 0.5 * voli ** 2) * T) / (voli * np.sqrt(T))\n",
    "    d2 = (np.log(S / K) + (r - 0.5 * voli ** 2) * T) / (voli * np.sqrt(T))\n",
    "    if payoption == \"call\":\n",
    "        option_value = S * si.norm.cdf(d1, 0.0, 1.0) - K * np.exp(-r * T) * si.norm.cdf(d2, 0.0, 1.0)\n",
    "    elif payoption == \"put\":\n",
    "        option_value = - S * si.norm.cdf(-d1, 0.0, 1.0) + K * np.exp(-r * T) * si.norm.cdf(-d2, 0.0, 1.0)\n",
    "       \n",
    "    \n",
    "    return option_value\n",
    "    \n",
    "    #S: spot price\n",
    "    #K: strike price\n",
    "    #T: time to maturity\n",
    "    #r: risk free rate\n",
    "    #voli: volatility of underlying asset\n",
    "    #payoption: call or put\n",
    "     "
   ]
  },
  {
   "cell_type": "code",
   "execution_count": 81,
   "id": "3f1829aa",
   "metadata": {},
   "outputs": [
    {
     "data": {
      "text/plain": [
       "21.745811067379492"
      ]
     },
     "execution_count": 81,
     "metadata": {},
     "output_type": "execute_result"
    }
   ],
   "source": [
    "blk_scholes(200, 202, 1, 0.03, 0.25, 'call')"
   ]
  },
  {
   "cell_type": "code",
   "execution_count": 83,
   "id": "2067c76c",
   "metadata": {},
   "outputs": [
    {
     "data": {
      "text/plain": [
       "17.77580884417813"
      ]
     },
     "execution_count": 83,
     "metadata": {},
     "output_type": "execute_result"
    }
   ],
   "source": [
    "blk_scholes(200, 202, 1, 0.03, 0.25, 'put')"
   ]
  },
  {
   "cell_type": "code",
   "execution_count": 84,
   "id": "207b17c4",
   "metadata": {},
   "outputs": [
    {
     "data": {
      "text/plain": [
       "array([[200.        , 199.47832346, 201.03774917, ..., 334.98682978,\n",
       "        336.87838657, 338.03601062],\n",
       "       [200.        , 197.84085558, 197.82689256, ..., 184.72738944,\n",
       "        185.91628459, 185.88366609],\n",
       "       [200.        , 203.02000264, 202.44449117, ..., 225.25379475,\n",
       "        229.12367643, 228.15979522],\n",
       "       ...,\n",
       "       [200.        , 198.5937863 , 198.8915681 , ..., 301.60260904,\n",
       "        301.64477971, 299.49384606],\n",
       "       [200.        , 201.19683751, 201.682889  , ..., 164.65680009,\n",
       "        165.31910455, 165.46404267],\n",
       "       [200.        , 201.2671685 , 200.90376007, ..., 134.28850321,\n",
       "        132.91300291, 134.44084161]])"
      ]
     },
     "execution_count": 84,
     "metadata": {},
     "output_type": "execute_result"
    }
   ],
   "source": [
    "#Monte carlo simulation\n",
    "import numpy as np\n",
    "def mcs_simulation_np(p):\n",
    "    M = p\n",
    "    I = p\n",
    "    dt = T / M \n",
    "    S = np.zeros((M + 1, I))\n",
    "    S[0] = S0 \n",
    "    rn = np.random.standard_normal(S.shape) \n",
    "    for t in range(1, M + 1): \n",
    "        S[t] = S[t-1] * np.exp((r - sigma ** 2 / 2) * dt + sigma * np.sqrt(dt) * rn[t])    \n",
    "       \n",
    "    return S\n",
    "T = 1\n",
    "r = 0.03\n",
    "sigma = 0.2\n",
    "S0 = 200\n",
    "K = 202\n",
    "S = mcs_simulation_np(1000)\n",
    "S = np.transpose(S)\n",
    "S"
   ]
  },
  {
   "cell_type": "code",
   "execution_count": 85,
   "id": "923ef4f8",
   "metadata": {},
   "outputs": [
    {
     "data": {
      "text/plain": [
       "Text(0.5, 1.0, 'Frequency distribution of the simulated end-of-preiod values')"
      ]
     },
     "execution_count": 85,
     "metadata": {},
     "output_type": "execute_result"
    },
    {
     "data": {
      "image/png": "[encoded data removed]",
      "text/plain": [
       "<Figure size 640x480 with 1 Axes>"
      ]
     },
     "metadata": {},
     "output_type": "display_data"
    }
   ],
   "source": [
    "import matplotlib.pyplot as plt\n",
    "n, bins, patches = plt.hist(x=S[:,-1], bins='auto', color='#0504aa',alpha=0.7, rwidth=0.85)\n",
    "\n",
    "plt.grid(axis='y', alpha=0.75)\n",
    "plt.xlabel('S_T')\n",
    "plt.ylabel('Frequency')\n",
    "plt.title('Frequency distribution of the simulated end-of-preiod values')"
   ]
  },
  {
   "cell_type": "code",
   "execution_count": 86,
   "id": "68503961",
   "metadata": {},
   "outputs": [
    {
     "name": "stdout",
     "output_type": "stream",
     "text": [
      "European put 14.522429366598121\n"
     ]
    }
   ],
   "source": [
    "p = np.exp(-r*T)*np.mean(np.maximum(K - S[:,-1],0))\n",
    "print('European put', str(p))\n"
   ]
  },
  {
   "cell_type": "code",
   "execution_count": 87,
   "id": "07848fee",
   "metadata": {},
   "outputs": [
    {
     "name": "stdout",
     "output_type": "stream",
     "text": [
      "European call 17.43135991502296\n"
     ]
    }
   ],
   "source": [
    "c = np.exp(-r*T)*np.mean(np.maximum(S[:,-1] - K,0))\n",
    "print('European call', str(c))"
   ]
  },
  {
   "cell_type": "code",
   "execution_count": null,
   "id": "65326829",
   "metadata": {},
   "outputs": [],
   "source": []
  }
 ],
 "metadata": {
  "kernelspec": {
   "display_name": "Python 3 (ipykernel)",
   "language": "python",
   "name": "python3"
  },
  "language_info": {
   "codemirror_mode": {
    "name": "ipython",
    "version": 3
   },
   "file_extension": ".py",
   "mimetype": "text/x-python",
   "name": "python",
   "nbconvert_exporter": "python",
   "pygments_lexer": "ipython3",
   "version": "3.11.5"
  }
 },
 "nbformat": 4,
 "nbformat_minor": 5
}
